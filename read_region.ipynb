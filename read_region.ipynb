{
 "cells": [
  {
   "cell_type": "code",
   "execution_count": 1,
   "metadata": {
    "collapsed": true
   },
   "outputs": [],
   "source": [
    "import json"
   ]
  },
  {
   "cell_type": "code",
   "execution_count": 2,
   "metadata": {
    "collapsed": true
   },
   "outputs": [],
   "source": [
    "with open('newyork_formatted.json') as f:\n",
    "    features = json.load(f)"
   ]
  },
  {
   "cell_type": "code",
   "execution_count": 18,
   "metadata": {
    "collapsed": false
   },
   "outputs": [],
   "source": [
    "def gen_random_distrib(size):\n",
    "    a=np.abs(np.random.randn(size)+.2)\n",
    "    return a/a.sum()"
   ]
  },
  {
   "cell_type": "code",
   "execution_count": 19,
   "metadata": {
    "collapsed": false
   },
   "outputs": [],
   "source": [
    "for i, feat in enumerate(features['features']):\n",
    "    feat['properties']['name'] = 'Region {}'.format(i+1)\n",
    "    feat['properties'][\"category_distrib\"] = list(gen_random_distrib(9))\n",
    "    feat['properties'][\"category_more\"] = list(gen_random_distrib(9)+.6)\n",
    "    feat['properties'][\"time_distrib\"] = list(gen_random_distrib(6))\n",
    "    feat['properties'][\"time_more\"] = list(gen_random_distrib(6)+.6)"
   ]
  },
  {
   "cell_type": "code",
   "execution_count": 22,
   "metadata": {
    "collapsed": true
   },
   "outputs": [],
   "source": [
    "with open('newyork_distrib.json', 'w') as f:\n",
    "    json.dump(features, f, sort_keys=True, indent=2,)"
   ]
  },
  {
   "cell_type": "code",
   "execution_count": null,
   "metadata": {
    "collapsed": true
   },
   "outputs": [],
   "source": []
  }
 ],
 "metadata": {
  "kernelspec": {
   "display_name": "Python 3",
   "language": "python",
   "name": "python3"
  },
  "language_info": {
   "codemirror_mode": {
    "name": "ipython",
    "version": 3
   },
   "file_extension": ".py",
   "mimetype": "text/x-python",
   "name": "python",
   "nbconvert_exporter": "python",
   "pygments_lexer": "ipython3",
   "version": "3.5.1"
  }
 },
 "nbformat": 4,
 "nbformat_minor": 0
}
