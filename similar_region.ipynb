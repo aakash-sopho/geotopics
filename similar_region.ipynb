{
 "cells": [
  {
   "cell_type": "raw",
   "metadata": {},
   "source": [
    "export MAPBOX_ACCESS_TOKEN=\"YOUR_ACCESS_TOKEN\""
   ]
  },
  {
   "cell_type": "code",
   "execution_count": null,
   "metadata": {
    "collapsed": true
   },
   "outputs": [],
   "source": [
    "from mapbox import Static\n",
    "from IPython.display import Image\n",
    "import json\n",
    "import pandas as pd\n",
    "import seaborn as sns\n",
    "\n",
    "#city1, region1, city2, region2 = 'sanfrancisco', 20, 'newyork', 56\n",
    "#city1, region1, city2, region2 = 'sanfrancisco', 48, 'newyork', 34\n",
    "#city1, region1, city2, region2 = 'sanfrancisco', 48, 'rome', 33\n",
    "city1, region1, city2, region2 = 'london', 6, 'prague', 2"
   ]
  },
  {
   "cell_type": "code",
   "execution_count": null,
   "metadata": {
    "collapsed": true
   },
   "outputs": [],
   "source": [
    "mpl.style.use('ggplot')\n",
    "sns.set('talk', 'whitegrid', 'Set1', font_scale=1.6, rc={'figure.figsize': (8, 12)})\n",
    "mpl.rcParams['text.usetex'] = True\n",
    "mpl.rc('font',**{'family':'serif','serif':['Palatino']})\n",
    "\n",
    "short_to_full = {'amsterdam': 'Amsterdam', 'ankara': 'Ankara', 'antalya': 'Antalya', 'atlanta': 'Atlanta',\n",
    " 'barcelona': 'Barcelona', 'belohorizonte': 'Belo Horizonte', 'berlin': 'Berlin', 'chicago': 'Chicago',\n",
    " 'fortaleza': 'Fortaleza', 'helsinki': 'Helsinki', 'houston': 'Houston', 'indianapolis': 'Indianapolis',\n",
    " 'istanbul': 'İstanbul', 'izmir': 'İzmir', 'kualalumpur': 'Kuala Lumpur', 'london': 'London',\n",
    " 'losangeles': 'Los Angeles', 'mexicocity': 'Mexico City', 'moscow': 'Moscow', 'newyork': 'New York',\n",
    " 'paris': 'Paris', 'portoalegre': 'Porto Alegre', 'prague': 'Prague', 'recife': 'Recife',\n",
    " 'riodejaneiro': 'Rio de Janeiro', 'rome': 'Rome', 'salvador': 'Salvador', 'sandiego': 'San Diego',\n",
    " 'sanfrancisco': 'San Francisco', 'santiagodechile': 'Santiago de Chile', 'saopaulo': 'São Paulo', 'seattle': 'Seattle',\n",
    " 'seoul': 'Seoul', 'singapore': 'Singapore', 'stlouis': 'Saint Louis', 'stockholm': 'Stockholm',\n",
    " 'stpetersburg': 'Saint Petersburg', 'tokyo': 'Tokyo', 'washington': 'Washington', 'yokohama': 'Yokohama'}\n",
    "\n",
    "# See https://github.com/mapbox/simplestyle-spec/tree/master/1.1.0 for more infos and markers\n",
    "default_style = {\"stroke\": \"#555555\",\n",
    "            \"stroke-opacity\": 1.0,\n",
    "            \"stroke-width\": 1,\n",
    "            \"fill\": \"#2196f3\",\n",
    "            \"fill-opacity\": 0.5,}\n",
    "\n",
    "cats_name = ['Entertainment', 'Education', 'Food', 'Nightlife', 'Outdoors', 'Shop and Service', \n",
    "              'Professional', 'Residence', 'Transport']\n",
    "\n",
    "fc1, fc2 = short_to_full[city1], short_to_full[city2]\n",
    "color1, color2 = sns.palettes.color_palette('Set1')[:2]\n",
    "filename1  = '{}_{}.png'.format(city1, region1)\n",
    "filename2  = '{}_{}.png'.format(city2, region2)\n",
    "\n",
    "service = Static(access_token=None)"
   ]
  },
  {
   "cell_type": "code",
   "execution_count": null,
   "metadata": {
    "collapsed": false
   },
   "outputs": [],
   "source": [
    "regions = {}\n",
    "for city in (city1, city2):\n",
    "    with open('regions/{}_distrib.json'.format(city)) as f:\n",
    "        reg = json.load(f)\n",
    "    regions[city] = {int(r['properties']['name'].split(' ')[-1]): r for r in reg['features']}"
   ]
  },
  {
   "cell_type": "code",
   "execution_count": null,
   "metadata": {
    "collapsed": false
   },
   "outputs": [],
   "source": [
    "col1 = '{}, region {}'.format(fc1, region1)\n",
    "col2 = '{}, region {}'.format(fc2, region2)\n",
    "df=pd.DataFrame({col1: 100*np.array(regions[city1][region1]['properties']['category_distrib']),\n",
    "                 col2: 100*np.array(regions[city2][region2]['properties']['category_distrib'])},\n",
    "             cats_name,)[[col1, col2]]\n",
    "df"
   ]
  },
  {
   "cell_type": "markdown",
   "metadata": {},
   "source": [
    "Is there something better available out of the box: http://pandas.pydata.org/pandas-docs/stable/visualization.html#visualization-barplot"
   ]
  },
  {
   "cell_type": "code",
   "execution_count": null,
   "metadata": {
    "collapsed": false
   },
   "outputs": [],
   "source": [
    "ax=df.plot.barh()\n",
    "ax.set_xlabel('Percentage of venues')\n",
    "ax.set_ylabel('Category')\n",
    "plot_filename = '{}_{}_{}_{}.pdf'.format(city1, region1, city2, region2)\n",
    "plt.savefig(plot_filename, bbox_inches='tight', pad_inches=0)"
   ]
  },
  {
   "cell_type": "code",
   "execution_count": null,
   "metadata": {
    "collapsed": true
   },
   "outputs": [],
   "source": [
    "for city, region, color in [(city1, region1, color1), (city2, region2, color2)]:\n",
    "    filename = '{}_{}.png'.format(city, region)\n",
    "    feat = regions[city][region]\n",
    "    feat['properties'].update(default_style)\n",
    "    feat['properties']['fill'] = mpl.colors.rgb2hex(color)\n",
    "    response = service.image('mapbox.streets', features=[feat], width=400, height=600)\n",
    "    with open(filename, 'wb') as output:\n",
    "        output.write(response.content)"
   ]
  },
  {
   "cell_type": "code",
   "execution_count": null,
   "metadata": {
    "collapsed": false
   },
   "outputs": [],
   "source": [
    "Image(filename1)"
   ]
  },
  {
   "cell_type": "code",
   "execution_count": null,
   "metadata": {
    "collapsed": false
   },
   "outputs": [],
   "source": [
    "Image(filename2)"
   ]
  },
  {
   "cell_type": "code",
   "execution_count": null,
   "metadata": {
    "collapsed": true
   },
   "outputs": [],
   "source": [
    "template=\"\"\"\\\\begin{figure*}[tb]\n",
    "  \\centering\n",
    "    \\subfigure[RR1]{\n",
    "      \\includegraphics[width=0.3\\linewidth]\n",
    "      {figures/similar/FF1}\n",
    "    }\n",
    "    \\subfigure[Venues distribution]{\n",
    "      \\includegraphics[width=0.3\\linewidth]\n",
    "      {figures/similar/FFC}\n",
    "    }\n",
    "    \\subfigure[RR2]{\n",
    "      \\includegraphics[width=0.3\\linewidth]\n",
    "      {figures/similar/FF2}\n",
    "    }\n",
    "\t\\caption{. \\label{fig:casestudy}}\n",
    "\\end{figure*}\"\"\""
   ]
  },
  {
   "cell_type": "code",
   "execution_count": null,
   "metadata": {
    "collapsed": false
   },
   "outputs": [],
   "source": [
    "print((template.replace('FF1', filename1)\n",
    "       .replace('RR1', 'Region {}'.format(region1))\n",
    "       .replace('RR2', 'Region {}'.format(region2))\n",
    "       .replace('FF2', filename2)\n",
    "       .replace('FFC', '{}_{}_{}_{}.pdf'.format(city1, region1, city2, region2))))"
   ]
  }
 ],
 "metadata": {
  "kernelspec": {
   "display_name": "Python 3",
   "language": "python",
   "name": "python3"
  },
  "language_info": {
   "codemirror_mode": {
    "name": "ipython",
    "version": 3
   },
   "file_extension": ".py",
   "mimetype": "text/x-python",
   "name": "python",
   "nbconvert_exporter": "python",
   "pygments_lexer": "ipython3",
   "version": "3.5.2"
  }
 },
 "nbformat": 4,
 "nbformat_minor": 0
}
