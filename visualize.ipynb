{
 "cells": [
  {
   "cell_type": "markdown",
   "metadata": {},
   "source": [
    "# Visualizing Geotopics Results\n",
    "\n",
    "In this notebook, we provide scripts to visualize the results obtained by the *GeoTopics* method.\n",
    "\n",
    "**Project Page**: http://mmathioudakis.github.io/geotopics/\n",
    "\n",
    "**Code Repository**: https://github.com/mmathioudakis/geotopics\n",
    "\n",
    "## Setup\n",
    "\n",
    "To visualize the results, you first need to obtain an access token from MapBox and set it as **MAPBOX_ACCESS_TOKEN** environment variable -- or edit this notebook and pass it directly (see below). For instructions on how to obtain an access token, see the [official Mapbox instructions](https://www.mapbox.com/developers/).\n",
    "\n",
    "In what follows, we first import the required libraries and define constants and various functions."
   ]
  },
  {
   "cell_type": "code",
   "execution_count": null,
   "metadata": {
    "collapsed": false
   },
   "outputs": [],
   "source": [
    "# required libraries\n",
    "import enum\n",
    "import gc\n",
    "import matplotlib.cm as cmlib\n",
    "import numpy as np\n",
    "import persistent as p\n",
    "import sys\n",
    "import shapely.geometry as g\n",
    "import shapely.speedups\n",
    "import visualization.scatter_plot as scplot\n",
    "import visualization.utils as scatter_utils\n",
    "from poly_gaussian import gaussian_to_poly\n",
    "import matplotlib.pyplot as plt\n",
    "import mapbox\n",
    "import matplotlib.image as mpimg\n",
    "import os"
   ]
  },
  {
   "cell_type": "code",
   "execution_count": null,
   "metadata": {
    "collapsed": true
   },
   "outputs": [],
   "source": [
    "%matplotlib inline"
   ]
  },
  {
   "cell_type": "code",
   "execution_count": null,
   "metadata": {
    "collapsed": false
   },
   "outputs": [],
   "source": [
    "mapbox_service = mapbox.Static()\n",
    "service.session.params['access_token'] = os.environ['MAPBOX_ACCESS_TOKEN']\n",
    "\n",
    "# alternatively, you can uncomment the next line and pass your token directly\n",
    "# mapbox_service.session.params['access_token'] = 'YOUR_TOKEN'"
   ]
  },
  {
   "cell_type": "code",
   "execution_count": null,
   "metadata": {
    "collapsed": false
   },
   "outputs": [],
   "source": [
    "mainCats = ['Arts & Entertainment', 'College & University', 'Food', 'Nightlife Spot',\n",
    "        'Outdoors & Recreation', 'Shop & Service', 'Professional & Other Places',\n",
    "        'Residence', 'Travel & Transport']\n",
    "main_cats_plot = mainCats[:]\n",
    "mainCats = {c: i for i, c in enumerate(mainCats)}\n",
    "mainCats['Event'] = 9\n",
    "\n",
    "name_to_main_cat = p.load_var('name_to_cat.my')\n",
    "name_to_main_cat['Event'] = 'Event'\n",
    "name_to_main_cat['NOPRIMCAT'] = 'Event'\n",
    "name_to_main_cat['Tennis'] = 'Outdoors & Recreation'\n",
    "\n",
    "timeOfDay = ['MORNING', 'NOON', 'AFTERNOON', 'EVENING', 'NIGHT', 'LATENIGHT']\n",
    "timeOfDay_plot = ['MORN', 'NOON', 'AFNN', 'EVEN', 'NGHT', 'LATE']\n",
    "dayOfWeek = ['Monday', 'Tuesday', 'Wednesday', 'Thursday', 'Friday', 'Saturday', 'Sunday']\n",
    "dayOfWeek_plot = ['Mon', 'Tue', 'Wed', 'Thu', 'Fri', 'Sat', 'Sun']"
   ]
  },
  {
   "cell_type": "code",
   "execution_count": null,
   "metadata": {
    "collapsed": true
   },
   "outputs": [],
   "source": [
    "FOLDER = 'data/'\n",
    "city = 'firenze'"
   ]
  },
  {
   "cell_type": "code",
   "execution_count": null,
   "metadata": {
    "collapsed": true
   },
   "outputs": [],
   "source": [
    "def iter_region_distribution_and_geo(model, cat_idx_to_main_idx,\n",
    "                                     timeOfDay_order, dayOfWeek_order):\n",
    "    \"\"\"Generate distributions for each region.\"\"\"\n",
    "    params = model.get_params()\n",
    "    thetas = params.theta[0]\n",
    "    category_distr = get_distributions_for_dimension(params, 'primCategory')\n",
    "    timeofday_distr = get_distributions_for_dimension(params, 'timeOfDay')\n",
    "    dayofweek_distr = get_distributions_for_dimension(params, 'dayOfWeek')\n",
    "    centers = params.topic_centers\n",
    "    covars = params.topic_covar\n",
    "\n",
    "    assert(category_distr[0].shape == category_distr[1].shape)\n",
    "    assert(timeofday_distr[0].shape == timeofday_distr[1].shape)\n",
    "    num_of_regions = params.num_topics\n",
    "    for z in range(num_of_regions):\n",
    "        cat_distr, cat_distinct = reorder_category(category_distr[0][z],\n",
    "                                                   cat_idx_to_main_idx, category_distr[1][z])\n",
    "        yield (z, thetas[z], cat_distr, cat_distinct,\n",
    "               timeofday_distr[0][z][timeOfDay_order],\n",
    "               timeofday_distr[1][z][timeOfDay_order],\n",
    "               dayofweek_distr[0][z][dayOfWeek_order],\n",
    "               dayofweek_distr[1][z][dayOfWeek_order],\n",
    "               centers[z], covars[z])\n",
    "\n",
    "def get_distributions_for_dimension(params, dimension):\n",
    "    # retrieve model parameters\n",
    "    h_array = params.h_arrays[dimension]\n",
    "    beta_distr = params.beta_arrays[dimension]\n",
    "    # exponentiate logs\n",
    "    distinctiveness_ratio = np.exp(h_array)\n",
    "    return beta_distr, distinctiveness_ratio\n",
    "\n",
    "def reorder_category(distrib, cat_idx_to_main_idx, distinct):\n",
    "    category_freq = np.zeros(9)  # skip Event category\n",
    "    category_distinct = np.zeros_like(category_freq)\n",
    "    for i in range(category_freq.size):\n",
    "        relevant_subcat = cat_idx_to_main_idx == i\n",
    "        category_freq[i] = distrib[relevant_subcat].sum()\n",
    "        category_distinct[i] = np.sum(distinct[relevant_subcat]*distrib[relevant_subcat])\n",
    "    return category_freq / category_freq.sum(), category_distinct\n",
    "\n",
    "\n",
    "class ScoreType(enum.Enum):\n",
    "    likely = 0\n",
    "    distinctive = 1\n",
    "\n",
    "\n",
    "class PrettyFloat(float):\n",
    "    def __repr__(self):\n",
    "        return '%.5f' % self\n",
    "\n",
    "def pretty_floats(obj):\n",
    "    if isinstance(obj, float):\n",
    "        return PrettyFloat(obj)\n",
    "    elif isinstance(obj, dict):\n",
    "        return dict((k, pretty_floats(v)) for k, v in obj.items())\n",
    "    elif isinstance(obj, (list, tuple)):\n",
    "        return list(map(pretty_floats, obj))\n",
    "    return obj"
   ]
  },
  {
   "cell_type": "code",
   "execution_count": null,
   "metadata": {
    "collapsed": false
   },
   "outputs": [],
   "source": [
    "prefix = FOLDER + city\n",
    "# filenames\n",
    "model_file = prefix + \".mdl\"\n",
    "scaler_file = prefix + \".scaler\"\n",
    "unigrams_file = prefix + \".unigrams\"\n",
    "# load data\n",
    "model = p.load_var(model_file)\n",
    "scaler = p.load_var(scaler_file)\n",
    "unigrams = p.load_var(unigrams_file)\n",
    "\n",
    "cat_idx_to_main_idx = np.array([mainCats[name_to_main_cat[cat_name]]\n",
    "                                for distrib_idx, cat_name\n",
    "                                in enumerate(unigrams['primCategory'])])\n",
    "timeOfDay_order = [unigrams['timeOfDay'].index(_) for _ in timeOfDay]\n",
    "dayOfWeek_order = [unigrams['dayOfWeek'].index(_) for _ in dayOfWeek]\n",
    "\n",
    "msg = 'Processing {} regions in {}'\n",
    "print(msg.format(model.get_params().num_topics, city))\n",
    "\n",
    "neighborhoods = []\n",
    "# iterate over regions, extract the distributions for each\n",
    "for x in iter_region_distribution_and_geo(model, cat_idx_to_main_idx,\n",
    "                                          timeOfDay_order, dayOfWeek_order):\n",
    "    (region_id, theta, cat_distr, cat_distinct, timeofday_distr,\n",
    "     timeofday_distinct, dayofweek_distr, dayofweek_distinct, center,\n",
    "     covar) = x\n",
    "    geojson = gaussian_to_poly(center, covar, city,\n",
    "                               'Region {:02}'.format(region_id + 1),\n",
    "                               scaler, resolution=26)\n",
    "    del geojson['properties']['city']\n",
    "    del geojson['properties']['fill']\n",
    "    geojson['properties']['category_distrib'] = list(cat_distr)\n",
    "    geojson['properties']['category_more'] = list(cat_distinct)\n",
    "    geojson['properties']['time_distrib'] = list(timeofday_distr)\n",
    "    geojson['properties']['time_more'] = list(timeofday_distinct)\n",
    "    geojson['properties']['days_distrib'] = list(dayofweek_distr)\n",
    "    geojson['properties']['days_more'] = list(dayofweek_distinct)\n",
    "    geojson['properties']['weight'] = float(theta)\n",
    "    neighborhoods.append(geojson)\n",
    "neighborhoods.sort(key=lambda x: x['properties']['weight'], reverse=True)\n",
    "a = pretty_floats({\"type\": \"FeatureCollection\",\n",
    "                   \"features\": neighborhoods})"
   ]
  },
  {
   "cell_type": "code",
   "execution_count": null,
   "metadata": {
    "collapsed": true
   },
   "outputs": [],
   "source": [
    "cat_colors = [cmlib.Oranges(x) for x in np.linspace(0, 1, len(main_cats_plot))]\n",
    "time_colors = [cmlib.Greens(x) for x in np.linspace(0, 1, len(timeOfDay))]\n",
    "day_colors = [cmlib.Purples(x) for x in np.linspace(0, 1, len(dayOfWeek))]"
   ]
  },
  {
   "cell_type": "markdown",
   "metadata": {},
   "source": [
    "## Plotting"
   ]
  },
  {
   "cell_type": "code",
   "execution_count": null,
   "metadata": {
    "collapsed": false
   },
   "outputs": [],
   "source": [
    "# select top regions based on volume\n",
    "MAX_REGIONS = 5\n",
    "results = sorted(enumerate(a['features']), key = lambda x: x[1]['properties']['weight'], reverse = True)[:MAX_REGIONS]"
   ]
  },
  {
   "cell_type": "code",
   "execution_count": null,
   "metadata": {
    "collapsed": false
   },
   "outputs": [],
   "source": [
    "for region_id, res in results:\n",
    "    stats = res['properties']\n",
    "    \n",
    "    fig, ax = plt.subplots(1, 4, figsize = (21, 6))\n",
    "    fig.suptitle(\"{} - Weight: {}%\".format(stats['name'], int(100 * stats['weight'])), size = 18)\n",
    "    \n",
    "    ax[0].set(title = stats['name'])\n",
    "    response = mapbox_service.image('mapbox.streets', features=[a['features'][region_id]])\n",
    "    with open('/tmp/map.png', 'wb') as output:\n",
    "        _ = output.write(response.content)\n",
    "    img = mpimg.imread('/tmp/map.png')\n",
    "    ax[0].axis('off')\n",
    "    ax[0].imshow(img);\n",
    "    \n",
    "    \n",
    "    ax[1].set(title = 'Category')\n",
    "    ax[1].bar(range(len(mainCats) - 1), stats['category_distrib'], tick_label = main_cats_plot,\n",
    "              color = cat_colors, align = 'center')\n",
    "    \n",
    "    ax[2].set(title = 'Days of Week')\n",
    "    ax[2].bar(range(len(dayOfWeek)), stats['days_distrib'], tick_label = dayOfWeek_plot,\n",
    "              color = day_colors, align = 'center')\n",
    "    \n",
    "    ax[3].set(title = 'Time of Day')\n",
    "    ax[3].bar(range(len(timeOfDay)), stats['time_distrib'], tick_label = timeOfDay_plot,\n",
    "              color = time_colors, align = 'center')\n"
   ]
  },
  {
   "cell_type": "code",
   "execution_count": null,
   "metadata": {
    "collapsed": true
   },
   "outputs": [],
   "source": []
  }
 ],
 "metadata": {
  "kernelspec": {
   "display_name": "Python 3",
   "language": "python",
   "name": "python3"
  },
  "language_info": {
   "codemirror_mode": {
    "name": "ipython",
    "version": 3
   },
   "file_extension": ".py",
   "mimetype": "text/x-python",
   "name": "python",
   "nbconvert_exporter": "python",
   "pygments_lexer": "ipython3",
   "version": "3.5.1"
  }
 },
 "nbformat": 4,
 "nbformat_minor": 0
}
