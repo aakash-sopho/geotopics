{
 "cells": [
  {
   "cell_type": "markdown",
   "metadata": {},
   "source": [
    "The following instructions have been tried on OSX 10.11.5.\n",
    "Setup on other platforms should be quite similar.\n",
    "\n",
    "# Requirements\n",
    "\n",
    "* python 3.5\n",
    "* mongodb >= 3.2.3\n",
    "* anakonda >= 4.0.8 for python 3.5 [download](https://www.continuum.io/downloads)\n",
    "* other python libraries: delorean >= 0.6.0, persistent >= 4.2.1\n",
    "These libraries are installed with the following command.\n",
    "\n",
    "> pip install ...\n",
    "\n",
    "If you do not have pip, you can install it using these [official instructions](https://pip.pypa.io/en/stable/installing/).\n",
    "\n",
    "\n",
    "\n",
    "\n",
    "## Data\n",
    "\n",
    "### Load data into mongodb\n",
    "\n",
    "With mongodb running, import the data with the following two commands.\n"
   ]
  },
  {
   "cell_type": "code",
   "execution_count": 2,
   "metadata": {
    "collapsed": false
   },
   "outputs": [
    {
     "name": "stderr",
     "output_type": "stream",
     "text": [
      "2016-06-14T18:03:42.832+0300\tconnected to: localhost\n",
      "2016-06-14T18:03:43.154+0300\timported 900 documents\n",
      "2016-06-14T18:03:43.166+0300\tconnected to: localhost\n",
      "2016-06-14T18:03:43.279+0300\timported 332 documents\n"
     ]
    }
   ],
   "source": [
    "%%bash\n",
    "mongoimport -d firenze_sample -c checkins --file data/firenze_checkins.json --upsert\n",
    "mongoimport -d firenze_sample -c venues --file data/firenze_venues.json --upsert"
   ]
  },
  {
   "cell_type": "markdown",
   "metadata": {},
   "source": [
    "### Download other data\n",
    "\n",
    "\n",
    "## Train"
   ]
  },
  {
   "cell_type": "code",
   "execution_count": 4,
   "metadata": {
    "collapsed": false
   },
   "outputs": [
    {
     "name": "stdout",
     "output_type": "stream",
     "text": [
      "Process is terminated.\n"
     ]
    }
   ],
   "source": [
    "%%bash\n",
    "python3.5 -W ignore train.py -k_min 1 -k_step 1 -k_max 15 --runs 10 -lambdas \"1\" --iter 100 --rel_change 0.00001 \\\n",
    "    --plot --save mongo --dbname firenze_sample --query '{\"city\":\"Firenze\"}'"
   ]
  },
  {
   "cell_type": "markdown",
   "metadata": {
    "collapsed": true
   },
   "source": [
    "The above outputs files of the following form,\n",
    "* [date]-logl_across_k.pdf\n",
    "* [date].desc\n",
    "* [date].mdl\n",
    "* [date].scaler\n",
    "* [date].unigrams\n",
    "\n",
    "where [date] is the timestamp when the program finished."
   ]
  },
  {
   "cell_type": "code",
   "execution_count": null,
   "metadata": {
    "collapsed": true
   },
   "outputs": [],
   "source": []
  }
 ],
 "metadata": {
  "kernelspec": {
   "display_name": "Python 3",
   "language": "python",
   "name": "python3"
  },
  "language_info": {
   "codemirror_mode": {
    "name": "ipython",
    "version": 3
   },
   "file_extension": ".py",
   "mimetype": "text/x-python",
   "name": "python",
   "nbconvert_exporter": "python",
   "pygments_lexer": "ipython3",
   "version": "3.5.1"
  }
 },
 "nbformat": 4,
 "nbformat_minor": 0
}
